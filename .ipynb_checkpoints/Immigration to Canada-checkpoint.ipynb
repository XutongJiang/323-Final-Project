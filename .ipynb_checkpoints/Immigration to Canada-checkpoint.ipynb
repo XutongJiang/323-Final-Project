{
 "cells": [
  {
   "cell_type": "markdown",
   "metadata": {},
   "source": [
    "# [Immigration to Canada](https://github.com/XutongJiang/ImmigrationToCanada)"
   ]
  },
  {
   "cell_type": "markdown",
   "metadata": {},
   "source": [
    "### Group members\n",
    "Section 003: *Xutong Jiang*, *Danny Liu*.  \n",
    "Section 004: *Jasper Zhao*, *Yan Zeng*."
   ]
  },
  {
   "cell_type": "markdown",
   "metadata": {},
   "source": [
    "### Background\n",
    "This is the final project for ECON 323 at UBC, Vancouver.  \n",
    "The rising cost of living in Canada is becoming a big problem for many Canadians, especially for new settlers. As an immigrant, choosing the best place to reside in Canada can be a challenging task influenced by a range of factors. Our project aims to provide valuable insights to assist new immigrants in making wise decisions regarding housing rental, income by profession, and living expenses. We achieve this by utilizing data from government sources and presenting it in a visually appealing manner. By offering data-driven insights, our project can guide immigrants as they take their first steps toward settling in Canada."
   ]
  },
  {
   "cell_type": "markdown",
   "metadata": {},
   "source": [
    "### Dataset"
   ]
  },
  {
   "cell_type": "markdown",
   "metadata": {},
   "source": [
    "We gathered 6 datasets from Statistics Canada. These datasets revolve around 3 aspects that we thought were important to our target users (people who are planning their move to Canada). These aspects are rent price, income by occupation and household spending across Canada.  \n",
    "\n",
    "The datasets are listed below:  \n",
    "\n",
    "1. https://www150.statcan.gc.ca/t1/tbl1/en/tv.action?pid=3410013301 (average rents for areas with a population of 10,000 and over)\n",
    "2. https://www150.statcan.gc.ca/n1/daily-quotidien/220323/t002a-eng.htm (Median after-tax income, Canada and provinces, 2020)\n",
    "3. https://www150.statcan.gc.ca/t1/tbl1/en/tv.action?pid=9810045201 (Employment income statistics by occupation minor group, work activity during the reference year, age and gender: Canada, provinces and territories and census metropolitan areas with parts)\n",
    "4. https://www150.statcan.gc.ca/t1/tbl1/en/tv.action?pid=3610022501&pickMembers%5B0%5D=1.11&pickMembers%5B1%5D=2.1&cubeTimeFrame.startYear=2020&cubeTimeFrame.endYear=2020&referencePeriods=20200101%2C20200101 (Detailed household final consumption expenditure, provincial and territorial, annual (x 1,000,000))\n",
    "5. https://www150.statcan.gc.ca/t1/tbl1/en/tv.action?pid=1410032501 (Job vacancies, payroll employees, job vacancy rate, and average offered hourly wage by provinces and territories, quarterly, unadjusted for seasonality)\n",
    "6. https://www150.statcan.gc.ca/t1/tbl1/en/tv.action?pid=1410035601&pickMembers%5B0%5D=1.2&cubeTimeFrame.startMonth=07&cubeTimeFrame.startYear=2021&cubeTimeFrame.endMonth=07&cubeTimeFrame.endYear=2022&referencePeriods=20210701%2C20220701 (Job vacancies and average offered hourly wage by occupation)\n"
   ]
  },
  {
   "cell_type": "code",
   "execution_count": 1,
   "metadata": {},
   "outputs": [],
   "source": [
    "import pandas as pd\n",
    "import numpy as np\n",
    "import matplotlib.pyplot as plt\n",
    "df1 = pd.read_csv(\"data/1-Rent.csv\")\n",
    "df2 = pd.read_csv(\"data/2-Income.csv\")\n",
    "df3 = pd.read_csv(\"data/3-IncomeByOccupation.csv\")\n",
    "df4 = pd.read_csv(\"data/4-Spending.csv\")\n",
    "df5 = pd.read_csv(\"data/5-Vacancy&Wage.csv\")\n",
    "df6 = pd.read_csv(\"data/6-Occupation&Vacancy&Wage.csv\")\n",
    "province_code = {\n",
    "  \"Newfoundland and Labrador\": \"NL\",\n",
    "  \"Alberta\": \"AB\",\n",
    "  \"British Columbia\": \"BC\",\n",
    "  \"Manitoba\": \"MB\",\n",
    "  \"New Brunswick\": \"NB\",\n",
    "  \"Nova Scotia\": \"NS\",\n",
    "  \"Ontario\": \"ON\",\n",
    "  \"Prince Edward Island\": \"PE\",\n",
    "  \"Quebec\": \"QC\",\n",
    "  \"Saskatchewan\": \"SK\",\n",
    "}"
   ]
  },
  {
   "cell_type": "markdown",
   "metadata": {},
   "source": [
    "### Preprocessing\n",
    "Before implementing the Analysis, it's important to clean up and process the original dataset. We have the following pipeline to preprocess data:\n",
    "1. Grouping data by provinces to maintain consistancy across datasets. Since in dataset 1, the geographical locations are cities while in all other datasets, geographical locations are provinces, we need to first extract each row’s corresponding province and group the data by their provinces. Finally, we are going to derive attribute Rent by taking the mean of rents of each specific unit type across the province.\n",
    "2. For datasets 2, 4 and 5, we are joining them together on the Province attribute. The number of rows won’t change since in the original datasets, each province is corresponding to one row and one quantitative attribute value.\n",
    "3. We will also join dataset 3 and 6, by the unique identifier Province + Occupation. For occupations, we keep only the top levels in this table, as the corresponding visualization would only need that degree of information.\n",
    "4. Lastly, we transform each province name to province code instead, as some names are quite long and later may cause label overlapping on the visualization."
   ]
  },
  {
   "cell_type": "code",
   "execution_count": 2,
   "metadata": {},
   "outputs": [
    {
     "name": "stdout",
     "output_type": "stream",
     "text": [
      "   Province                 Unit         Rent\n",
      "0        AB       Bachelor units   852.400000\n",
      "1        AB    One bedroom units  1005.470588\n",
      "2        AB  Three bedroom units  1301.125000\n",
      "3        AB    Two bedroom units  1185.210526\n",
      "4        BC       Bachelor units   908.700000\n",
      "5        BC    One bedroom units  1054.269231\n",
      "6        BC  Three bedroom units  1538.739130\n",
      "7        BC    Two bedroom units  1299.961538\n",
      "8        MB       Bachelor units   670.400000\n",
      "9        MB    One bedroom units   871.200000\n",
      "10       MB  Three bedroom units  1299.000000\n",
      "11       MB    Two bedroom units  1106.400000\n",
      "12       NB       Bachelor units   628.000000\n",
      "13       NB    One bedroom units   730.857143\n",
      "14       NB  Three bedroom units  1041.428571\n",
      "15       NB    Two bedroom units   914.428571\n",
      "16       NL       Bachelor units   677.500000\n",
      "17       NL    One bedroom units   741.000000\n",
      "18       NL  Three bedroom units   901.250000\n",
      "19       NL    Two bedroom units   843.800000\n",
      "20       NS       Bachelor units   581.666667\n",
      "21       NS    One bedroom units   683.714286\n",
      "22       NS  Three bedroom units  1017.000000\n",
      "23       NS    Two bedroom units   852.375000\n",
      "24       ON       Bachelor units   787.111111\n",
      "25       ON    One bedroom units   991.879310\n",
      "26       ON  Three bedroom units  1319.717949\n",
      "27       ON    Two bedroom units  1162.593220\n",
      "28       PE       Bachelor units   629.000000\n",
      "29       PE    One bedroom units   843.500000\n",
      "30       PE  Three bedroom units  1036.500000\n",
      "31       PE    Two bedroom units  1006.500000\n",
      "32       QC       Bachelor units   477.184211\n",
      "33       QC    One bedroom units   566.809524\n",
      "34       QC  Three bedroom units   821.860465\n",
      "35       QC    Two bedroom units   739.465116\n",
      "36       SK       Bachelor units   673.875000\n",
      "37       SK    One bedroom units   871.777778\n",
      "38       SK  Three bedroom units  1193.222222\n",
      "39       SK    Two bedroom units  1020.666667\n",
      "  Province  Income  Spending  Vacancy  Rate   Wage\n",
      "0       NL   59300   14930.4    8,185   3.7  22.30\n",
      "1       PE   59400    4207.1    4,090   5.4  19.50\n",
      "2       NS   57500   26161.7   22,960   5.2  20.80\n",
      "3       NB   56900   21062.6   16,430   4.7  20.90\n",
      "4       QC   59700  220364.2  246,230   6.1  23.70\n",
      "5       ON   70100  399266.3  372,075   5.4  24.65\n",
      "6       MB   63000   34290.8   32,290   5.1  21.60\n",
      "7       SK   67700   31716.4   25,445   5.1  22.45\n",
      "8       AB   77700  126489.2  103,380   5.0  24.80\n",
      "9       BC   67500  149984.6  156,645   6.2  25.45\n",
      "   Province                                     Occupation  Income Vacancy  \\\n",
      "0        NL              Legislative and senior management   97000     275   \n",
      "1        NL           Business, finance and administration   47200     595   \n",
      "2        NL                   Natural and applied sciences   78500     295   \n",
      "3        NL                                         Health   55200   1,480   \n",
      "4        NL             Education, Law and Public Services   44800     710   \n",
      "..      ...                                            ...     ...     ...   \n",
      "95       BC             Art, Culture, Recreation and Sport   25200   2,815   \n",
      "96       BC                              Sales and service   23200  44,485   \n",
      "97       BC     Trades, Transport and Equipment operators    50400  26,605   \n",
      "98       BC  Natural resources, Agriculture and Production   26800   3,350   \n",
      "99       BC                    Manufacturing and Utilities   45600   4,575   \n",
      "\n",
      "     Wage  \n",
      "0   33.30  \n",
      "1   23.25  \n",
      "2   35.00  \n",
      "3   27.45  \n",
      "4   20.65  \n",
      "..    ...  \n",
      "95  30.55  \n",
      "96  18.50  \n",
      "97  27.95  \n",
      "98  23.85  \n",
      "99  21.15  \n",
      "\n",
      "[100 rows x 5 columns]\n"
     ]
    }
   ],
   "source": [
    "# Step 1\n",
    "df1['Province'] = df1['Province'].apply(lambda x: x.split(', ')[1])\n",
    "df1 = df1.groupby(['Province','Unit'])['Rent'].mean().reset_index()\n",
    "\n",
    "# Step 2\n",
    "df245 = pd.merge(df2, df4, on='Province').merge(df5, on='Province')\n",
    "\n",
    "# Step 3\n",
    "df36 = pd.merge(df3, df6, on=['Province','Occupation'])\n",
    "\n",
    "# Step 4\n",
    "def translate_province(df):\n",
    "    df['Province'] = df['Province'].apply(lambda x: province_code.get(x))\n",
    "translate_province(df1)\n",
    "translate_province(df245)\n",
    "translate_province(df36)\n",
    "print(df1)\n",
    "print(df245)\n",
    "print(df36)"
   ]
  },
  {
   "cell_type": "code",
   "execution_count": null,
   "metadata": {},
   "outputs": [],
   "source": []
  }
 ],
 "metadata": {
  "kernelspec": {
   "display_name": "Python [conda env:cpsc330]",
   "language": "python",
   "name": "conda-env-cpsc330-py"
  },
  "language_info": {
   "codemirror_mode": {
    "name": "ipython",
    "version": 3
   },
   "file_extension": ".py",
   "mimetype": "text/x-python",
   "name": "python",
   "nbconvert_exporter": "python",
   "pygments_lexer": "ipython3",
   "version": "3.10.8"
  }
 },
 "nbformat": 4,
 "nbformat_minor": 4
}
