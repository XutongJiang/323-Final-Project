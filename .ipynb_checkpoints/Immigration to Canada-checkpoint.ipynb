{
 "cells": [
  {
   "cell_type": "markdown",
   "metadata": {},
   "source": [
    "# [Immigration to Canada](https://github.com/XutongJiang/ImmigrationToCanada)"
   ]
  },
  {
   "cell_type": "markdown",
   "metadata": {},
   "source": [
    "### Group members\n",
    "Section 003: *Xutong Jiang*, *Danny Liu*.  \n",
    "Section 004: *Jasper Zhao*, *Yan Zeng*."
   ]
  },
  {
   "cell_type": "markdown",
   "metadata": {},
   "source": [
    "### Background\n",
    "This is the final project for ECON 323 at UBC, Vancouver.  \n",
    "The rising cost of living in Canada is becoming a big problem for many Canadians, especially for new settlers. As an immigrant, choosing the best place to reside in Canada can be a challenging task influenced by a range of factors. Our project aims to provide valuable insights to assist new immigrants in making wise decisions regarding housing rental, income by profession, and living expenses. We achieve this by utilizing data from government sources and presenting it in a visually appealing manner. By offering data-driven insights, our project can guide immigrants as they take their first steps toward settling in Canada."
   ]
  },
  {
   "cell_type": "markdown",
   "metadata": {},
   "source": [
    "### Dataset"
   ]
  },
  {
   "cell_type": "markdown",
   "metadata": {},
   "source": [
    "We gathered 6 datasets from Statistics Canada. These datasets revolve around 3 aspects that we thought were important to our target users (people who are planning their move to Canada). These aspects are rent price, income by occupation and household spending across Canada.  \n",
    "\n",
    "The datasets are listed below:  \n",
    "\n",
    "1. https://www150.statcan.gc.ca/t1/tbl1/en/tv.action?pid=3410013301 (average rents for areas with a population of 10,000 and over)\n",
    "2. https://www150.statcan.gc.ca/n1/daily-quotidien/220323/t002a-eng.htm (Median after-tax income, Canada and provinces, 2020)\n",
    "3. https://www150.statcan.gc.ca/t1/tbl1/en/tv.action?pid=9810045201 (Employment income statistics by occupation minor group, work activity during the reference year, age and gender: Canada, provinces and territories and census metropolitan areas with parts)\n",
    "4. https://www150.statcan.gc.ca/t1/tbl1/en/tv.action?pid=3610022501&pickMembers%5B0%5D=1.11&pickMembers%5B1%5D=2.1&cubeTimeFrame.startYear=2020&cubeTimeFrame.endYear=2020&referencePeriods=20200101%2C20200101 (Detailed household final consumption expenditure, provincial and territorial, annual (x 1,000,000))\n",
    "5. https://www150.statcan.gc.ca/t1/tbl1/en/tv.action?pid=1410032501 (Job vacancies, payroll employees, job vacancy rate, and average offered hourly wage by provinces and territories, quarterly, unadjusted for seasonality)\n",
    "6. https://www150.statcan.gc.ca/t1/tbl1/en/tv.action?pid=1410035601&pickMembers%5B0%5D=1.2&cubeTimeFrame.startMonth=07&cubeTimeFrame.startYear=2021&cubeTimeFrame.endMonth=07&cubeTimeFrame.endYear=2022&referencePeriods=20210701%2C20220701 (Job vacancies and average offered hourly wage by occupation)\n"
   ]
  },
  {
   "cell_type": "code",
   "execution_count": 2,
   "metadata": {},
   "outputs": [
    {
     "ename": "FileNotFoundError",
     "evalue": "[Errno 2] No such file or directory: 'data/1-Rent.csv'",
     "output_type": "error",
     "traceback": [
      "\u001b[0;31m---------------------------------------------------------------------------\u001b[0m",
      "\u001b[0;31mFileNotFoundError\u001b[0m                         Traceback (most recent call last)",
      "Cell \u001b[0;32mIn[2], line 4\u001b[0m\n\u001b[1;32m      2\u001b[0m \u001b[39mimport\u001b[39;00m \u001b[39mnumpy\u001b[39;00m \u001b[39mas\u001b[39;00m \u001b[39mnp\u001b[39;00m\n\u001b[1;32m      3\u001b[0m \u001b[39mimport\u001b[39;00m \u001b[39mmatplotlib\u001b[39;00m\u001b[39m.\u001b[39;00m\u001b[39mpyplot\u001b[39;00m \u001b[39mas\u001b[39;00m \u001b[39mplt\u001b[39;00m\n\u001b[0;32m----> 4\u001b[0m df1 \u001b[39m=\u001b[39m pd\u001b[39m.\u001b[39;49mread_csv(\u001b[39m\"\u001b[39;49m\u001b[39mdata/1-Rent.csv\u001b[39;49m\u001b[39m\"\u001b[39;49m)\n\u001b[1;32m      5\u001b[0m df2 \u001b[39m=\u001b[39m pd\u001b[39m.\u001b[39mread_csv(\u001b[39m\"\u001b[39m\u001b[39mdata/2-Income.csv\u001b[39m\u001b[39m\"\u001b[39m)\n\u001b[1;32m      6\u001b[0m df3 \u001b[39m=\u001b[39m pd\u001b[39m.\u001b[39mread_csv(\u001b[39m\"\u001b[39m\u001b[39mdata/3-IncomeByOccupation.csv\u001b[39m\u001b[39m\"\u001b[39m)\n",
      "File \u001b[0;32m~/miniconda3/envs/cpsc330/lib/python3.10/site-packages/pandas/util/_decorators.py:211\u001b[0m, in \u001b[0;36mdeprecate_kwarg.<locals>._deprecate_kwarg.<locals>.wrapper\u001b[0;34m(*args, **kwargs)\u001b[0m\n\u001b[1;32m    209\u001b[0m     \u001b[39melse\u001b[39;00m:\n\u001b[1;32m    210\u001b[0m         kwargs[new_arg_name] \u001b[39m=\u001b[39m new_arg_value\n\u001b[0;32m--> 211\u001b[0m \u001b[39mreturn\u001b[39;00m func(\u001b[39m*\u001b[39;49margs, \u001b[39m*\u001b[39;49m\u001b[39m*\u001b[39;49mkwargs)\n",
      "File \u001b[0;32m~/miniconda3/envs/cpsc330/lib/python3.10/site-packages/pandas/util/_decorators.py:331\u001b[0m, in \u001b[0;36mdeprecate_nonkeyword_arguments.<locals>.decorate.<locals>.wrapper\u001b[0;34m(*args, **kwargs)\u001b[0m\n\u001b[1;32m    325\u001b[0m \u001b[39mif\u001b[39;00m \u001b[39mlen\u001b[39m(args) \u001b[39m>\u001b[39m num_allow_args:\n\u001b[1;32m    326\u001b[0m     warnings\u001b[39m.\u001b[39mwarn(\n\u001b[1;32m    327\u001b[0m         msg\u001b[39m.\u001b[39mformat(arguments\u001b[39m=\u001b[39m_format_argument_list(allow_args)),\n\u001b[1;32m    328\u001b[0m         \u001b[39mFutureWarning\u001b[39;00m,\n\u001b[1;32m    329\u001b[0m         stacklevel\u001b[39m=\u001b[39mfind_stack_level(),\n\u001b[1;32m    330\u001b[0m     )\n\u001b[0;32m--> 331\u001b[0m \u001b[39mreturn\u001b[39;00m func(\u001b[39m*\u001b[39;49margs, \u001b[39m*\u001b[39;49m\u001b[39m*\u001b[39;49mkwargs)\n",
      "File \u001b[0;32m~/miniconda3/envs/cpsc330/lib/python3.10/site-packages/pandas/io/parsers/readers.py:950\u001b[0m, in \u001b[0;36mread_csv\u001b[0;34m(filepath_or_buffer, sep, delimiter, header, names, index_col, usecols, squeeze, prefix, mangle_dupe_cols, dtype, engine, converters, true_values, false_values, skipinitialspace, skiprows, skipfooter, nrows, na_values, keep_default_na, na_filter, verbose, skip_blank_lines, parse_dates, infer_datetime_format, keep_date_col, date_parser, dayfirst, cache_dates, iterator, chunksize, compression, thousands, decimal, lineterminator, quotechar, quoting, doublequote, escapechar, comment, encoding, encoding_errors, dialect, error_bad_lines, warn_bad_lines, on_bad_lines, delim_whitespace, low_memory, memory_map, float_precision, storage_options)\u001b[0m\n\u001b[1;32m    935\u001b[0m kwds_defaults \u001b[39m=\u001b[39m _refine_defaults_read(\n\u001b[1;32m    936\u001b[0m     dialect,\n\u001b[1;32m    937\u001b[0m     delimiter,\n\u001b[0;32m   (...)\u001b[0m\n\u001b[1;32m    946\u001b[0m     defaults\u001b[39m=\u001b[39m{\u001b[39m\"\u001b[39m\u001b[39mdelimiter\u001b[39m\u001b[39m\"\u001b[39m: \u001b[39m\"\u001b[39m\u001b[39m,\u001b[39m\u001b[39m\"\u001b[39m},\n\u001b[1;32m    947\u001b[0m )\n\u001b[1;32m    948\u001b[0m kwds\u001b[39m.\u001b[39mupdate(kwds_defaults)\n\u001b[0;32m--> 950\u001b[0m \u001b[39mreturn\u001b[39;00m _read(filepath_or_buffer, kwds)\n",
      "File \u001b[0;32m~/miniconda3/envs/cpsc330/lib/python3.10/site-packages/pandas/io/parsers/readers.py:605\u001b[0m, in \u001b[0;36m_read\u001b[0;34m(filepath_or_buffer, kwds)\u001b[0m\n\u001b[1;32m    602\u001b[0m _validate_names(kwds\u001b[39m.\u001b[39mget(\u001b[39m\"\u001b[39m\u001b[39mnames\u001b[39m\u001b[39m\"\u001b[39m, \u001b[39mNone\u001b[39;00m))\n\u001b[1;32m    604\u001b[0m \u001b[39m# Create the parser.\u001b[39;00m\n\u001b[0;32m--> 605\u001b[0m parser \u001b[39m=\u001b[39m TextFileReader(filepath_or_buffer, \u001b[39m*\u001b[39;49m\u001b[39m*\u001b[39;49mkwds)\n\u001b[1;32m    607\u001b[0m \u001b[39mif\u001b[39;00m chunksize \u001b[39mor\u001b[39;00m iterator:\n\u001b[1;32m    608\u001b[0m     \u001b[39mreturn\u001b[39;00m parser\n",
      "File \u001b[0;32m~/miniconda3/envs/cpsc330/lib/python3.10/site-packages/pandas/io/parsers/readers.py:1442\u001b[0m, in \u001b[0;36mTextFileReader.__init__\u001b[0;34m(self, f, engine, **kwds)\u001b[0m\n\u001b[1;32m   1439\u001b[0m     \u001b[39mself\u001b[39m\u001b[39m.\u001b[39moptions[\u001b[39m\"\u001b[39m\u001b[39mhas_index_names\u001b[39m\u001b[39m\"\u001b[39m] \u001b[39m=\u001b[39m kwds[\u001b[39m\"\u001b[39m\u001b[39mhas_index_names\u001b[39m\u001b[39m\"\u001b[39m]\n\u001b[1;32m   1441\u001b[0m \u001b[39mself\u001b[39m\u001b[39m.\u001b[39mhandles: IOHandles \u001b[39m|\u001b[39m \u001b[39mNone\u001b[39;00m \u001b[39m=\u001b[39m \u001b[39mNone\u001b[39;00m\n\u001b[0;32m-> 1442\u001b[0m \u001b[39mself\u001b[39m\u001b[39m.\u001b[39m_engine \u001b[39m=\u001b[39m \u001b[39mself\u001b[39;49m\u001b[39m.\u001b[39;49m_make_engine(f, \u001b[39mself\u001b[39;49m\u001b[39m.\u001b[39;49mengine)\n",
      "File \u001b[0;32m~/miniconda3/envs/cpsc330/lib/python3.10/site-packages/pandas/io/parsers/readers.py:1735\u001b[0m, in \u001b[0;36mTextFileReader._make_engine\u001b[0;34m(self, f, engine)\u001b[0m\n\u001b[1;32m   1733\u001b[0m     \u001b[39mif\u001b[39;00m \u001b[39m\"\u001b[39m\u001b[39mb\u001b[39m\u001b[39m\"\u001b[39m \u001b[39mnot\u001b[39;00m \u001b[39min\u001b[39;00m mode:\n\u001b[1;32m   1734\u001b[0m         mode \u001b[39m+\u001b[39m\u001b[39m=\u001b[39m \u001b[39m\"\u001b[39m\u001b[39mb\u001b[39m\u001b[39m\"\u001b[39m\n\u001b[0;32m-> 1735\u001b[0m \u001b[39mself\u001b[39m\u001b[39m.\u001b[39mhandles \u001b[39m=\u001b[39m get_handle(\n\u001b[1;32m   1736\u001b[0m     f,\n\u001b[1;32m   1737\u001b[0m     mode,\n\u001b[1;32m   1738\u001b[0m     encoding\u001b[39m=\u001b[39;49m\u001b[39mself\u001b[39;49m\u001b[39m.\u001b[39;49moptions\u001b[39m.\u001b[39;49mget(\u001b[39m\"\u001b[39;49m\u001b[39mencoding\u001b[39;49m\u001b[39m\"\u001b[39;49m, \u001b[39mNone\u001b[39;49;00m),\n\u001b[1;32m   1739\u001b[0m     compression\u001b[39m=\u001b[39;49m\u001b[39mself\u001b[39;49m\u001b[39m.\u001b[39;49moptions\u001b[39m.\u001b[39;49mget(\u001b[39m\"\u001b[39;49m\u001b[39mcompression\u001b[39;49m\u001b[39m\"\u001b[39;49m, \u001b[39mNone\u001b[39;49;00m),\n\u001b[1;32m   1740\u001b[0m     memory_map\u001b[39m=\u001b[39;49m\u001b[39mself\u001b[39;49m\u001b[39m.\u001b[39;49moptions\u001b[39m.\u001b[39;49mget(\u001b[39m\"\u001b[39;49m\u001b[39mmemory_map\u001b[39;49m\u001b[39m\"\u001b[39;49m, \u001b[39mFalse\u001b[39;49;00m),\n\u001b[1;32m   1741\u001b[0m     is_text\u001b[39m=\u001b[39;49mis_text,\n\u001b[1;32m   1742\u001b[0m     errors\u001b[39m=\u001b[39;49m\u001b[39mself\u001b[39;49m\u001b[39m.\u001b[39;49moptions\u001b[39m.\u001b[39;49mget(\u001b[39m\"\u001b[39;49m\u001b[39mencoding_errors\u001b[39;49m\u001b[39m\"\u001b[39;49m, \u001b[39m\"\u001b[39;49m\u001b[39mstrict\u001b[39;49m\u001b[39m\"\u001b[39;49m),\n\u001b[1;32m   1743\u001b[0m     storage_options\u001b[39m=\u001b[39;49m\u001b[39mself\u001b[39;49m\u001b[39m.\u001b[39;49moptions\u001b[39m.\u001b[39;49mget(\u001b[39m\"\u001b[39;49m\u001b[39mstorage_options\u001b[39;49m\u001b[39m\"\u001b[39;49m, \u001b[39mNone\u001b[39;49;00m),\n\u001b[1;32m   1744\u001b[0m )\n\u001b[1;32m   1745\u001b[0m \u001b[39massert\u001b[39;00m \u001b[39mself\u001b[39m\u001b[39m.\u001b[39mhandles \u001b[39mis\u001b[39;00m \u001b[39mnot\u001b[39;00m \u001b[39mNone\u001b[39;00m\n\u001b[1;32m   1746\u001b[0m f \u001b[39m=\u001b[39m \u001b[39mself\u001b[39m\u001b[39m.\u001b[39mhandles\u001b[39m.\u001b[39mhandle\n",
      "File \u001b[0;32m~/miniconda3/envs/cpsc330/lib/python3.10/site-packages/pandas/io/common.py:856\u001b[0m, in \u001b[0;36mget_handle\u001b[0;34m(path_or_buf, mode, encoding, compression, memory_map, is_text, errors, storage_options)\u001b[0m\n\u001b[1;32m    851\u001b[0m \u001b[39melif\u001b[39;00m \u001b[39misinstance\u001b[39m(handle, \u001b[39mstr\u001b[39m):\n\u001b[1;32m    852\u001b[0m     \u001b[39m# Check whether the filename is to be opened in binary mode.\u001b[39;00m\n\u001b[1;32m    853\u001b[0m     \u001b[39m# Binary mode does not support 'encoding' and 'newline'.\u001b[39;00m\n\u001b[1;32m    854\u001b[0m     \u001b[39mif\u001b[39;00m ioargs\u001b[39m.\u001b[39mencoding \u001b[39mand\u001b[39;00m \u001b[39m\"\u001b[39m\u001b[39mb\u001b[39m\u001b[39m\"\u001b[39m \u001b[39mnot\u001b[39;00m \u001b[39min\u001b[39;00m ioargs\u001b[39m.\u001b[39mmode:\n\u001b[1;32m    855\u001b[0m         \u001b[39m# Encoding\u001b[39;00m\n\u001b[0;32m--> 856\u001b[0m         handle \u001b[39m=\u001b[39m \u001b[39mopen\u001b[39;49m(\n\u001b[1;32m    857\u001b[0m             handle,\n\u001b[1;32m    858\u001b[0m             ioargs\u001b[39m.\u001b[39;49mmode,\n\u001b[1;32m    859\u001b[0m             encoding\u001b[39m=\u001b[39;49mioargs\u001b[39m.\u001b[39;49mencoding,\n\u001b[1;32m    860\u001b[0m             errors\u001b[39m=\u001b[39;49merrors,\n\u001b[1;32m    861\u001b[0m             newline\u001b[39m=\u001b[39;49m\u001b[39m\"\u001b[39;49m\u001b[39m\"\u001b[39;49m,\n\u001b[1;32m    862\u001b[0m         )\n\u001b[1;32m    863\u001b[0m     \u001b[39melse\u001b[39;00m:\n\u001b[1;32m    864\u001b[0m         \u001b[39m# Binary mode\u001b[39;00m\n\u001b[1;32m    865\u001b[0m         handle \u001b[39m=\u001b[39m \u001b[39mopen\u001b[39m(handle, ioargs\u001b[39m.\u001b[39mmode)\n",
      "\u001b[0;31mFileNotFoundError\u001b[0m: [Errno 2] No such file or directory: 'data/1-Rent.csv'"
     ]
    }
   ],
   "source": [
    "import pandas as pd\n",
    "import numpy as np\n",
    "import matplotlib.pyplot as plt\n",
    "df1 = pd.read_csv(\"data/1-Rent.csv\")\n",
    "df2 = pd.read_csv(\"data/2-Income.csv\")\n",
    "df3 = pd.read_csv(\"data/3-IncomeByOccupation.csv\")\n",
    "df4 = pd.read_csv(\"data/4-Spending.csv\")\n",
    "df5 = pd.read_csv(\"data/5-Vacancy&Wage.csv\")\n",
    "df6 = pd.read_csv(\"data/6-Occupation&Vacancy&Wage.csv\")\n",
    "province_code = {\n",
    "  \"Newfoundland and Labrador\": \"NL\",\n",
    "  \"Alberta\": \"AB\",\n",
    "  \"British Columbia\": \"BC\",\n",
    "  \"Manitoba\": \"MB\",\n",
    "  \"New Brunswick\": \"NB\",\n",
    "  \"Nova Scotia\": \"NS\",\n",
    "  \"Ontario\": \"ON\",\n",
    "  \"Prince Edward Island\": \"PE\",\n",
    "  \"Quebec\": \"QC\",\n",
    "  \"Saskatchewan\": \"SK\",\n",
    "}"
   ]
  },
  {
   "cell_type": "markdown",
   "metadata": {},
   "source": [
    "### Preprocessing\n",
    "Before implementing the Analysis, it's important to clean up and process the original dataset. We have the following pipeline to preprocess data:\n",
    "1. Grouping data by provinces to maintain consistancy across datasets. Since in dataset 1, the geographical locations are cities while in all other datasets, geographical locations are provinces, we need to first extract each row’s corresponding province and group the data by their provinces. Finally, we are going to derive attribute Rent by taking the mean of rents of each specific unit type across the province.\n",
    "2. For datasets 2, 4 and 5, we are joining them together on the Province attribute. The number of rows won’t change since in the original datasets, each province is corresponding to one row and one quantitative attribute value.\n",
    "3. We will also join dataset 3 and 6, by the unique identifier Province + Occupation. For occupations, we keep only the top levels in this table, as the corresponding visualization would only need that degree of information.\n",
    "4. Lastly, we transform each province name to province code instead, as some names are quite long and later may cause label overlapping on the visualization."
   ]
  },
  {
   "cell_type": "code",
   "execution_count": null,
   "metadata": {},
   "outputs": [
    {
     "name": "stdout",
     "output_type": "stream",
     "text": [
      "   Province                 Unit         Rent\n",
      "0        AB       Bachelor units   852.400000\n",
      "1        AB    One bedroom units  1005.470588\n",
      "2        AB  Three bedroom units  1301.125000\n",
      "3        AB    Two bedroom units  1185.210526\n",
      "4        BC       Bachelor units   908.700000\n",
      "5        BC    One bedroom units  1054.269231\n",
      "6        BC  Three bedroom units  1538.739130\n",
      "7        BC    Two bedroom units  1299.961538\n",
      "8        MB       Bachelor units   670.400000\n",
      "9        MB    One bedroom units   871.200000\n",
      "10       MB  Three bedroom units  1299.000000\n",
      "11       MB    Two bedroom units  1106.400000\n",
      "12       NB       Bachelor units   628.000000\n",
      "13       NB    One bedroom units   730.857143\n",
      "14       NB  Three bedroom units  1041.428571\n",
      "15       NB    Two bedroom units   914.428571\n",
      "16       NL       Bachelor units   677.500000\n",
      "17       NL    One bedroom units   741.000000\n",
      "18       NL  Three bedroom units   901.250000\n",
      "19       NL    Two bedroom units   843.800000\n",
      "20       NS       Bachelor units   581.666667\n",
      "21       NS    One bedroom units   683.714286\n",
      "22       NS  Three bedroom units  1017.000000\n",
      "23       NS    Two bedroom units   852.375000\n",
      "24       ON       Bachelor units   787.111111\n",
      "25       ON    One bedroom units   991.879310\n",
      "26       ON  Three bedroom units  1319.717949\n",
      "27       ON    Two bedroom units  1162.593220\n",
      "28       PE       Bachelor units   629.000000\n",
      "29       PE    One bedroom units   843.500000\n",
      "30       PE  Three bedroom units  1036.500000\n",
      "31       PE    Two bedroom units  1006.500000\n",
      "32       QC       Bachelor units   477.184211\n",
      "33       QC    One bedroom units   566.809524\n",
      "34       QC  Three bedroom units   821.860465\n",
      "35       QC    Two bedroom units   739.465116\n",
      "36       SK       Bachelor units   673.875000\n",
      "37       SK    One bedroom units   871.777778\n",
      "38       SK  Three bedroom units  1193.222222\n",
      "39       SK    Two bedroom units  1020.666667\n",
      "  Province  Income  Spending  Vacancy  Rate   Wage\n",
      "0       NL   59300   14930.4    8,185   3.7  22.30\n",
      "1       PE   59400    4207.1    4,090   5.4  19.50\n",
      "2       NS   57500   26161.7   22,960   5.2  20.80\n",
      "3       NB   56900   21062.6   16,430   4.7  20.90\n",
      "4       QC   59700  220364.2  246,230   6.1  23.70\n",
      "5       ON   70100  399266.3  372,075   5.4  24.65\n",
      "6       MB   63000   34290.8   32,290   5.1  21.60\n",
      "7       SK   67700   31716.4   25,445   5.1  22.45\n",
      "8       AB   77700  126489.2  103,380   5.0  24.80\n",
      "9       BC   67500  149984.6  156,645   6.2  25.45\n",
      "   Province                                     Occupation  Income Vacancy  \\\n",
      "0        NL              Legislative and senior management   97000     275   \n",
      "1        NL           Business, finance and administration   47200     595   \n",
      "2        NL                   Natural and applied sciences   78500     295   \n",
      "3        NL                                         Health   55200   1,480   \n",
      "4        NL             Education, Law and Public Services   44800     710   \n",
      "..      ...                                            ...     ...     ...   \n",
      "95       BC             Art, Culture, Recreation and Sport   25200   2,815   \n",
      "96       BC                              Sales and service   23200  44,485   \n",
      "97       BC     Trades, Transport and Equipment operators    50400  26,605   \n",
      "98       BC  Natural resources, Agriculture and Production   26800   3,350   \n",
      "99       BC                    Manufacturing and Utilities   45600   4,575   \n",
      "\n",
      "     Wage  \n",
      "0   33.30  \n",
      "1   23.25  \n",
      "2   35.00  \n",
      "3   27.45  \n",
      "4   20.65  \n",
      "..    ...  \n",
      "95  30.55  \n",
      "96  18.50  \n",
      "97  27.95  \n",
      "98  23.85  \n",
      "99  21.15  \n",
      "\n",
      "[100 rows x 5 columns]\n"
     ]
    }
   ],
   "source": [
    "# Step 1\n",
    "df1['Province'] = df1['Province'].apply(lambda x: x.split(', ')[1])\n",
    "df1 = df1.groupby(['Province','Unit'])['Rent'].mean().reset_index()\n",
    "\n",
    "# Step 2\n",
    "df245 = pd.merge(df2, df4, on='Province').merge(df5, on='Province')\n",
    "\n",
    "# Step 3\n",
    "df36 = pd.merge(df3, df6, on=['Province','Occupation'])\n",
    "\n",
    "# Step 4\n",
    "def translate_province(df):\n",
    "    df['Province'] = df['Province'].apply(lambda x: province_code.get(x))\n",
    "translate_province(df1)\n",
    "translate_province(df245)\n",
    "translate_province(df36)\n",
    "print(df1)\n",
    "print(df245)\n",
    "print(df36)"
   ]
  },
  {
   "cell_type": "code",
   "execution_count": null,
   "metadata": {},
   "outputs": [],
   "source": []
  }
 ],
 "metadata": {
  "kernelspec": {
   "display_name": "cpsc330",
   "language": "python",
   "name": "python3"
  },
  "language_info": {
   "codemirror_mode": {
    "name": "ipython",
    "version": 3
   },
   "file_extension": ".py",
   "mimetype": "text/x-python",
   "name": "python",
   "nbconvert_exporter": "python",
   "pygments_lexer": "ipython3",
   "version": "3.10.8"
  }
 },
 "nbformat": 4,
 "nbformat_minor": 4
}
