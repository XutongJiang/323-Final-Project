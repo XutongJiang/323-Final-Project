{
 "cells": [
  {
   "attachments": {},
   "cell_type": "markdown",
   "metadata": {},
   "source": [
    "# Immigration to Canada - Econ 323 Final Project"
   ]
  },
  {
   "attachments": {},
   "cell_type": "markdown",
   "metadata": {},
   "source": [
    "### Group members\n",
    "Section 003: *Xutong Jiang*, *Danny Liu*.  \n",
    "Section 004: *Jasper Zhao*, *Yan Zeng*."
   ]
  },
  {
   "attachments": {},
   "cell_type": "markdown",
   "metadata": {},
   "source": [
    "### Background\n",
    "The rising cost of living in Canada is becoming a big problem for many Canadians, especially for new settlers. As an immigrant, choosing the best place to reside in Canada can be a challenging task influenced by a range of factors. Our project aims to provide valuable insights to assist new immigrants in making wise decisions regarding housing rental, income by profession, and living expenses. We achieve this by utilizing data from government sources and presenting it in a visually appealing manner. By offering data-driven insights, our project can guide immigrants as they take their first steps toward settling in Canada."
   ]
  },
  {
   "attachments": {},
   "cell_type": "markdown",
   "metadata": {},
   "source": [
    "### Dataset"
   ]
  },
  {
   "cell_type": "markdown",
   "metadata": {},
   "source": []
  }
 ],
 "metadata": {
  "kernelspec": {
   "display_name": "cpsc330",
   "language": "python",
   "name": "python3"
  },
  "language_info": {
   "name": "python",
   "version": "3.10.8"
  },
  "orig_nbformat": 4
 },
 "nbformat": 4,
 "nbformat_minor": 2
}
